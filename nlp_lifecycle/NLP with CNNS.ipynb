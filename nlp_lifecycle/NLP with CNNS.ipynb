{
 "cells": [
  {
   "cell_type": "markdown",
   "metadata": {},
   "source": [
    "Most of today will be working with RNNs or LSTMs, but we can also use CNNs or Convolutional Neural Networks with text as well. One of the more well known models comes from \"Text Understanding from Scratch\" by Zhang, LeCun 2015 https://arxiv.org/pdf/1502.01710v4.pdf this model is a series of 1D CNNs, with a maxpooling and fully connected layers.\n",
    "\n",
    "The idea behind the model is that earlier convolutions determine low level features in the text, which then feed into the later convolutions. This is similar to how a CNN in computer vision will learn how to clasify objects. One of my favorite visualizations of this comes from https://www.cc.gatech.edu/~hays/compvision2017/proj6/. \n",
    "\n",
    "![alt text](deepNetVis.png)"
   ]
  },
  {
   "cell_type": "markdown",
   "metadata": {},
   "source": [
    "At its core a convolution is the multiplication of two matrices - one of which is the input cells, and the other is the convolutional cell. The image below from https://medium.freecodecamp.org/an-intuitive-guide-to-convolutional-neural-networks-260c2de0a050 shows the output of a 3x3 convolutional matrix (the green matrix) over some input (blue). The convolutional matrix will scan across the entire input to fill out the ouput (the red matrix).\n",
    "\n",
    "![alt text](convolution.png)"
   ]
  },
  {
   "cell_type": "markdown",
   "metadata": {},
   "source": [
    "The \"Text Understanding from Scratch\" is a series of 6 convolutional layers followed by three fully connected layers. \n",
    "\n",
    "![alt text](textUnderstand.png)"
   ]
  },
  {
   "cell_type": "markdown",
   "metadata": {},
   "source": [
    "For this section of the demo we are going to briefly step away from PyTorch and use Keras. Keras uses static graphs which means that we have to fix the length of text documents and are not able to as easily probe intermediary layers of the model. However, it is a higher level deep learning language so we can focus more on the data setup and how the algorithm is performing as opposed to how to write the code. This demo comes from the NLP Architect repo at https://github.com/NervanaSystems/nlp-architect \n",
    "\n",
    "The first step we need to take is to format our text so that it is in a one-hot encoding. The advantages of this type of encoding is that we don't have to create a vocabulary (which means there is no out of vocab issues), and it can work for any language. We are going to work with the same dataset as in the Lifecycle tutorial - the 20 Newsgroups dataset."
   ]
  },
  {
   "cell_type": "code",
   "execution_count": 1,
   "metadata": {},
   "outputs": [
    {
     "name": "stderr",
     "output_type": "stream",
     "text": [
      "/anaconda/envs/py35/lib/python3.5/site-packages/h5py/__init__.py:36: FutureWarning: Conversion of the second argument of issubdtype from `float` to `np.floating` is deprecated. In future, it will be treated as `np.float64 == np.dtype(float).type`.\n",
      "  from ._conv import register_converters as _register_converters\n",
      "Using TensorFlow backend.\n"
     ]
    }
   ],
   "source": [
    "# Import packages\n",
    "from sklearn.datasets import fetch_20newsgroups\n",
    "from nltk.corpus import stopwords\n",
    "from nltk.stem.wordnet import WordNetLemmatizer\n",
    "import re\n",
    "import numpy as np\n",
    "\n",
    "from keras.optimizers import RMSprop, SGD\n",
    "from keras.models import Sequential, Model\n",
    "from keras.layers.core import Dense, Dropout, Activation, Flatten, Reshape\n",
    "from keras.layers.convolutional import Conv1D, MaxPooling1D\n",
    "\n",
    "%matplotlib inline\n",
    "\n",
    "import matplotlib.pyplot as plt\n",
    "from matplotlib import pyplot"
   ]
  },
  {
   "cell_type": "code",
   "execution_count": 2,
   "metadata": {},
   "outputs": [],
   "source": [
    "from sklearn.datasets import fetch_20newsgroups\n",
    "\n",
    "categories = [\n",
    "    'rec.autos',\n",
    "    'rec.motorcycles',\n",
    "    'sci.space'\n",
    "]\n",
    "\n",
    "# Again we remove the headers, footers and quotes only keeps the line information\n",
    "# The header and footer information in particular have metadata which would cause the algorithm to be overfitted\n",
    "newsgroups_train = fetch_20newsgroups(subset='train', categories=categories, random_state=42, remove=('headers', 'footers', 'quotes'))\n",
    "newsgroups_test = fetch_20newsgroups(subset='test', categories=categories, random_state=42, remove=('headers', 'footers', 'quotes'))\n",
    "dense_out=len(newsgroups_train.target_names) #length of features"
   ]
  },
  {
   "cell_type": "code",
   "execution_count": 4,
   "metadata": {},
   "outputs": [],
   "source": [
    "max_len = 300\n",
    "zhang_lecun_vocab=list(\"abcdefghijklmnopqrstuvwxyz0123456789-,;.!?:’’’/\\|_@#$%ˆ&*˜‘+-=<>()[]{}\") \n",
    "vocab_hash = {b: a for a, b in enumerate(zhang_lecun_vocab)}\n",
    "\n",
    "def to_one_hot(txt, length = max_len, vocab=vocab_hash):\n",
    "    \n",
    "    vocab_size = len(vocab.keys())\n",
    "    one_hot_vec = np.zeros((vocab_size, length), dtype=np.float32)\n",
    "    # run through txt and \"switch on\" relevant positions in one-hot vector\n",
    "    for idx, char in enumerate(txt):\n",
    "        try:\n",
    "            vocab_idx = vocab_hash[char.lower()]\n",
    "            one_hot_vec[vocab_idx, idx] = 1\n",
    "        # raised if character is out of vocabulary\n",
    "        except:\n",
    "            #print(char)\n",
    "            pass\n",
    "    return one_hot_vec\n",
    "\n",
    "def on_hot_label(label_val, num_labels):\n",
    "    one_hot_vec = np.zeros(num_labels)\n",
    "    one_hot_vec[label_val]=1\n",
    "    return one_hot_vec"
   ]
  },
  {
   "cell_type": "code",
   "execution_count": 5,
   "metadata": {},
   "outputs": [
    {
     "data": {
      "text/plain": [
       "array([[1., 0., 0., ..., 0., 0., 0.],\n",
       "       [0., 0., 0., ..., 0., 0., 0.],\n",
       "       [0., 0., 1., ..., 0., 0., 0.],\n",
       "       ...,\n",
       "       [0., 0., 0., ..., 0., 0., 0.],\n",
       "       [0., 0., 0., ..., 0., 0., 0.],\n",
       "       [0., 0., 0., ..., 0., 0., 0.]], dtype=float32)"
      ]
     },
     "execution_count": 5,
     "metadata": {},
     "output_type": "execute_result"
    }
   ],
   "source": [
    "to_one_hot(\"a Cat ate foccacia!\")"
   ]
  },
  {
   "cell_type": "code",
   "execution_count": 6,
   "metadata": {},
   "outputs": [
    {
     "data": {
      "text/plain": [
       "array([0., 0., 1.])"
      ]
     },
     "execution_count": 6,
     "metadata": {},
     "output_type": "execute_result"
    }
   ],
   "source": [
    "on_hot_label(2,dense_out)"
   ]
  },
  {
   "cell_type": "markdown",
   "metadata": {},
   "source": [
    "Now that we understand the one_hot encoding better we can process our data.\n",
    "Note that we aren't doing any cleaning except for making everything lowercase"
   ]
  },
  {
   "cell_type": "code",
   "execution_count": 7,
   "metadata": {},
   "outputs": [
    {
     "name": "stdout",
     "output_type": "stream",
     "text": [
      "(1785, 67, 300)\n",
      "(1785, 3)\n"
     ]
    }
   ],
   "source": [
    "X_train_a_ = [to_one_hot(x) for x in newsgroups_train.data]\n",
    "X_test_a_ = [to_one_hot(x) for x in newsgroups_test.data]\n",
    "\n",
    "X_train_a = np.asarray(X_train_a_)\n",
    "Y_train_a = np.asarray([on_hot_label(l, dense_out) for l in newsgroups_train.target])\n",
    "\n",
    "X_test_a = np.asarray(X_test_a_)\n",
    "Y_test_a = np.asarray([on_hot_label(l, dense_out) for l in newsgroups_test.target])\n",
    "\n",
    "print(X_train_a.shape)\n",
    "print(Y_train_a.shape)"
   ]
  },
  {
   "cell_type": "code",
   "execution_count": 8,
   "metadata": {},
   "outputs": [],
   "source": [
    "def one_hot_cnn(dense_out, max_len=max_len, frame='small'):\n",
    "\n",
    "    if frame == 'large':\n",
    "        cnn_size = 1024\n",
    "        fully_connected = [2048,2048,dense_out]\n",
    "    elif frame =='small':\n",
    "        cnn_size = 256\n",
    "        fully_connected = [1024,1024,dense_out]\n",
    "    elif frame =='tiny':\n",
    "        cnn_size = 128\n",
    "        fully_connected = [512,512,dense_out]\n",
    "        \n",
    "\n",
    "    model = Sequential()\n",
    "\n",
    "    model.add(Conv1D(cnn_size, 7, padding='same', input_shape=(67, max_len)))\n",
    "    model.add(MaxPooling1D(pool_size=3))\n",
    "\n",
    "    #Input = 22 x cnn_size\n",
    "    model.add(Conv1D(cnn_size, 7, padding='same'))\n",
    "    model.add(MaxPooling1D(pool_size=3))\n",
    "\n",
    "    #Input = 7 x cnn_size\n",
    "    model.add(Conv1D(cnn_size,3, padding='same'))\n",
    "\n",
    "    #Input = 7 x cnn_size\n",
    "    model.add(Conv1D(cnn_size,3, padding='same'))\n",
    "\n",
    "    model.add(Conv1D(cnn_size,3, padding='same'))\n",
    "\n",
    "    # #Input = 7 x cnn_size\n",
    "    model.add(Conv1D(cnn_size, 3, padding='same'))\n",
    "    model.add(MaxPooling1D(pool_size=3))\n",
    "    \n",
    "    model.add(Flatten())\n",
    "\n",
    "    #Fully Connected Layers\n",
    "\n",
    "    #Input is 512 Output is 1024/2048\n",
    "    model.add(Dense(fully_connected[0]))\n",
    "    model.add(Dropout(0.75))\n",
    "    model.add(Activation('relu'))\n",
    "\n",
    "    #Input is 1024/2048 Output is 1024/2048\n",
    "    model.add(Dense(fully_connected[1]))\n",
    "    model.add(Dropout(0.75))\n",
    "    model.add(Activation('relu'))\n",
    "\n",
    "    #Input is 1024/2048 Output is dense_out size (number of classes)\n",
    "    model.add(Dense(fully_connected[2]))\n",
    "    model.add(Activation('softmax'))\n",
    "\n",
    "    #Stochastic gradient parameters as set by paper\n",
    "    sgd = SGD(lr=0.01, decay=1e-5, momentum=0.9, nesterov=True)\n",
    "    model.compile(loss='categorical_crossentropy', optimizer=sgd, metrics=['accuracy'])\n",
    "\n",
    "    return model"
   ]
  },
  {
   "cell_type": "code",
   "execution_count": 10,
   "metadata": {},
   "outputs": [
    {
     "name": "stdout",
     "output_type": "stream",
     "text": [
      "_________________________________________________________________\n",
      "Layer (type)                 Output Shape              Param #   \n",
      "=================================================================\n",
      "conv1d_1 (Conv1D)            (None, 67, 256)           537856    \n",
      "_________________________________________________________________\n",
      "max_pooling1d_1 (MaxPooling1 (None, 22, 256)           0         \n",
      "_________________________________________________________________\n",
      "conv1d_2 (Conv1D)            (None, 22, 256)           459008    \n",
      "_________________________________________________________________\n",
      "max_pooling1d_2 (MaxPooling1 (None, 7, 256)            0         \n",
      "_________________________________________________________________\n",
      "conv1d_3 (Conv1D)            (None, 7, 256)            196864    \n",
      "_________________________________________________________________\n",
      "conv1d_4 (Conv1D)            (None, 7, 256)            196864    \n",
      "_________________________________________________________________\n",
      "conv1d_5 (Conv1D)            (None, 7, 256)            196864    \n",
      "_________________________________________________________________\n",
      "conv1d_6 (Conv1D)            (None, 7, 256)            196864    \n",
      "_________________________________________________________________\n",
      "max_pooling1d_3 (MaxPooling1 (None, 2, 256)            0         \n",
      "_________________________________________________________________\n",
      "flatten_1 (Flatten)          (None, 512)               0         \n",
      "_________________________________________________________________\n",
      "dense_1 (Dense)              (None, 1024)              525312    \n",
      "_________________________________________________________________\n",
      "dropout_1 (Dropout)          (None, 1024)              0         \n",
      "_________________________________________________________________\n",
      "activation_1 (Activation)    (None, 1024)              0         \n",
      "_________________________________________________________________\n",
      "dense_2 (Dense)              (None, 1024)              1049600   \n",
      "_________________________________________________________________\n",
      "dropout_2 (Dropout)          (None, 1024)              0         \n",
      "_________________________________________________________________\n",
      "activation_2 (Activation)    (None, 1024)              0         \n",
      "_________________________________________________________________\n",
      "dense_3 (Dense)              (None, 3)                 3075      \n",
      "_________________________________________________________________\n",
      "activation_3 (Activation)    (None, 3)                 0         \n",
      "=================================================================\n",
      "Total params: 3,362,307\n",
      "Trainable params: 3,362,307\n",
      "Non-trainable params: 0\n",
      "_________________________________________________________________\n"
     ]
    }
   ],
   "source": [
    "dense_out=len(newsgroups_train.target_names) #length of features\n",
    "\n",
    "model_cnn = one_hot_cnn(dense_out, frame='small')\n",
    "model_cnn.summary()"
   ]
  },
  {
   "cell_type": "code",
   "execution_count": 11,
   "metadata": {},
   "outputs": [
    {
     "name": "stdout",
     "output_type": "stream",
     "text": [
      "Train on 1785 samples, validate on 1188 samples\n",
      "Epoch 1/20\n",
      "1785/1785 [==============================] - 7s 4ms/step - loss: 1.1260 - acc: 0.3356 - val_loss: 1.0966 - val_acc: 0.3813\n",
      "Epoch 2/20\n",
      "1785/1785 [==============================] - 6s 3ms/step - loss: 1.1185 - acc: 0.3401 - val_loss: 1.0978 - val_acc: 0.3350\n",
      "Epoch 3/20\n",
      "1785/1785 [==============================] - 6s 4ms/step - loss: 1.1161 - acc: 0.3350 - val_loss: 1.0976 - val_acc: 0.3519\n",
      "Epoch 4/20\n",
      "1785/1785 [==============================] - 6s 4ms/step - loss: 1.1077 - acc: 0.3434 - val_loss: 1.0947 - val_acc: 0.3636\n",
      "Epoch 5/20\n",
      "1785/1785 [==============================] - 7s 4ms/step - loss: 1.1024 - acc: 0.3703 - val_loss: 1.0938 - val_acc: 0.3443\n",
      "Epoch 6/20\n",
      "1785/1785 [==============================] - 6s 3ms/step - loss: 1.0874 - acc: 0.3950 - val_loss: 1.0889 - val_acc: 0.3788\n",
      "Epoch 7/20\n",
      "1785/1785 [==============================] - 6s 4ms/step - loss: 1.0763 - acc: 0.4118 - val_loss: 1.0871 - val_acc: 0.3906\n",
      "Epoch 8/20\n",
      "1785/1785 [==============================] - 6s 4ms/step - loss: 1.0288 - acc: 0.4773 - val_loss: 1.0791 - val_acc: 0.4007\n",
      "Epoch 9/20\n",
      "1785/1785 [==============================] - 7s 4ms/step - loss: 0.9922 - acc: 0.5300 - val_loss: 1.0936 - val_acc: 0.3746\n",
      "Epoch 10/20\n",
      "1785/1785 [==============================] - 7s 4ms/step - loss: 0.8046 - acc: 0.6499 - val_loss: 1.1998 - val_acc: 0.3746\n",
      "Epoch 11/20\n",
      "1785/1785 [==============================] - 7s 4ms/step - loss: 0.5357 - acc: 0.7625 - val_loss: 1.6549 - val_acc: 0.3704\n",
      "Epoch 12/20\n",
      "1785/1785 [==============================] - 6s 3ms/step - loss: 0.3466 - acc: 0.8605 - val_loss: 2.7171 - val_acc: 0.3712\n",
      "Epoch 13/20\n",
      "1785/1785 [==============================] - 6s 3ms/step - loss: 0.2687 - acc: 0.8919 - val_loss: 2.1447 - val_acc: 0.3771\n",
      "Epoch 14/20\n",
      "1785/1785 [==============================] - 6s 3ms/step - loss: 0.1678 - acc: 0.9457 - val_loss: 2.1857 - val_acc: 0.3746\n",
      "Epoch 15/20\n",
      "1785/1785 [==============================] - 6s 3ms/step - loss: 0.0968 - acc: 0.9653 - val_loss: 2.3813 - val_acc: 0.3628\n",
      "Epoch 16/20\n",
      "1785/1785 [==============================] - 6s 4ms/step - loss: 0.0624 - acc: 0.9776 - val_loss: 2.9684 - val_acc: 0.3535\n",
      "Epoch 17/20\n",
      "1785/1785 [==============================] - 6s 3ms/step - loss: 0.0505 - acc: 0.9782 - val_loss: 2.7789 - val_acc: 0.3771\n",
      "Epoch 18/20\n",
      "1785/1785 [==============================] - 6s 3ms/step - loss: 0.0475 - acc: 0.9815 - val_loss: 3.1843 - val_acc: 0.3577\n",
      "Epoch 19/20\n",
      "1785/1785 [==============================] - 6s 4ms/step - loss: 0.0465 - acc: 0.9787 - val_loss: 3.0475 - val_acc: 0.3838\n",
      "Epoch 20/20\n",
      "1785/1785 [==============================] - 6s 4ms/step - loss: 0.0437 - acc: 0.9776 - val_loss: 3.0969 - val_acc: 0.3847\n"
     ]
    }
   ],
   "source": [
    "model_hist_cnn = model_cnn.fit(X_train_a, Y_train_a, batch_size=64, epochs=20, verbose=1, \n",
    "          validation_data=(X_test_a,Y_test_a))"
   ]
  },
  {
   "cell_type": "code",
   "execution_count": 10,
   "metadata": {},
   "outputs": [
    {
     "data": {
      "image/png": "[encoded data removed]",
      "text/plain": [
       "<matplotlib.figure.Figure at 0x11c610ba8>"
      ]
     },
     "metadata": {},
     "output_type": "display_data"
    }
   ],
   "source": [
    "# Training Accuracy\n",
    "x = np.arange(20)+1\n",
    "\n",
    "plt.plot(x, model_hist_cnn.history['acc'])\n",
    "plt.plot(x, model_hist_cnn.history['val_acc'])\n",
    "plt.legend(['Train', 'Val'], loc='right')\n",
    "plt.ylabel(\"Accuracy\")\n",
    "axes = plt.gca()\n",
    "plt.xlabel(\"Epoch\")\n",
    "plt.title(\"Accuracy per Epoch\")\n",
    "plt.show()"
   ]
  },
  {
   "cell_type": "markdown",
   "metadata": {},
   "source": [
    "## Try it with your own text\n",
    "\n",
    "Like we did in the last exercise lets try it out with our own text and see how the result varies."
   ]
  },
  {
   "cell_type": "code",
   "execution_count": 12,
   "metadata": {},
   "outputs": [],
   "source": [
    "text_input = \"I always loved watching the stars, and whenever I have the change I watch for satellites overhead :)\""
   ]
  },
  {
   "cell_type": "code",
   "execution_count": 13,
   "metadata": {},
   "outputs": [
    {
     "name": "stdout",
     "output_type": "stream",
     "text": [
      "This text most fits in rec.motorcycles with a probability of 0.724948\n"
     ]
    }
   ],
   "source": [
    "one_hot_input = np.asarray([to_one_hot(text_input)])\n",
    "input_prediction = model_cnn.predict(one_hot_input)\n",
    "\n",
    "print(\"This text most fits in %s with a probability of %f\" \n",
    "      %(newsgroups_train.target_names[np.argmax(input_prediction[0])],max(input_prediction[0])))"
   ]
  }
 ],
 "metadata": {
  "kernelspec": {
   "display_name": "Python 3",
   "language": "python",
   "name": "python3"
  },
  "language_info": {
   "codemirror_mode": {
    "name": "ipython",
    "version": 3
   },
   "file_extension": ".py",
   "mimetype": "text/x-python",
   "name": "python",
   "nbconvert_exporter": "python",
   "pygments_lexer": "ipython3",
   "version": "3.5.5"
  }
 },
 "nbformat": 4,
 "nbformat_minor": 2
}
