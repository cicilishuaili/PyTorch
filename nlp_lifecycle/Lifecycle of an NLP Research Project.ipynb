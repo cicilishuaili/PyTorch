{
 "cells": [
  {
   "cell_type": "markdown",
   "metadata": {},
   "source": [
    "Lets say we want to do some text classification and are just starting out with the project. There are some general steps that we can take to make sure we set up the project for sucess!\n",
    "\n",
    "* Step 1: Get some data\n",
    "* Step 2: Clean and analyze data\n",
    "* Step 3: Choose one or more algorithms\n",
    "* Step 4: Analyze algorithm and choose one for production\n",
    "\n",
    "We'll go over each of these steps in detail in this notebook using the 20 newsgroup dataset that come preinstalled in sklearn. Note too that there may be other steps you need to consider as well in your own projects, but this is a good start."
   ]
  },
  {
   "cell_type": "code",
   "execution_count": 1,
   "metadata": {},
   "outputs": [],
   "source": [
    "# Import packages\n",
    "from sklearn.datasets import fetch_20newsgroups\n",
    "from nltk.corpus import stopwords\n",
    "from nltk.stem.wordnet import WordNetLemmatizer\n",
    "import re\n",
    "import numpy as np\n",
    "\n",
    "from sklearn.feature_extraction.text import TfidfVectorizer, CountVectorizer\n",
    "from sklearn import linear_model, svm\n",
    "from sklearn.metrics import mean_squared_error, mean_absolute_error, precision_recall_fscore_support, accuracy_score, classification_report, confusion_matrix\n",
    "\n",
    "\n",
    "%matplotlib inline\n",
    "\n",
    "import matplotlib.pyplot as plt\n",
    "from matplotlib import pyplot"
   ]
  },
  {
   "cell_type": "markdown",
   "metadata": {},
   "source": [
    "## Step 1: Get some Data\n",
    "\n",
    "Get the 20 Newsgroups data is nice bc it is longer text, labeled and just a bit messy\n",
    "http://scikit-learn.org/stable/datasets/twenty_newsgroups.html#newsgroups for more info and some good examples.\n",
    "The first time you run this, the data will be downloaded, but it is fairly small."
   ]
  },
  {
   "cell_type": "code",
   "execution_count": 2,
   "metadata": {},
   "outputs": [
    {
     "name": "stderr",
     "output_type": "stream",
     "text": [
      "Downloading 20news dataset. This may take a few minutes.\n",
      "Downloading dataset from https://ndownloader.figshare.com/files/5975967 (14 MB)\n"
     ]
    },
    {
     "name": "stdout",
     "output_type": "stream",
     "text": [
      "[\"Hey folks--\\n\\nI've got a pair of Dunlop sportmax radials of my ZX-10, and they've been\\nvery sticky (ie no slides yet), but all this talk about the Metzelers has\\nme wondering if my next set should be a Lazer comp K and a radial Metzeler\\nrear...for hard sport-touring, how do the choices stack up?\", \"From article <eabu288-140493210752@dialin33635.slip.nts.uci.edu>, by eabu288@orion.oac.uci.edu (Alvin):\\n\\n--Could be.  Isn't the 2.5 liter six supposed to be enlarged to 2.8 liters\\n  in the not-too-distant future?\\n\\n--Aamir Qazi\\n\\n-- \", '\\n\\nI agree.  Six hour long stretches behind the wheel really make me\\nthirsty, especially for something with caffeine.  I consider it a\\nfailing of my car that it has no cup holder nor anywhere to put a cup\\nholder.']\n",
      "[1 0 0]\n"
     ]
    }
   ],
   "source": [
    "from sklearn.datasets import fetch_20newsgroups\n",
    "\n",
    "categories = [\n",
    "    'rec.autos',\n",
    "    'rec.motorcycles',\n",
    "    'sci.space'\n",
    "]\n",
    "\n",
    "# Removing the headers, footers and quotes only keeps the line information\n",
    "# The header and footer information in particular have metadata which would cause the algorithm to be overfitted\n",
    "newsgroups_train = fetch_20newsgroups(subset='train', categories=categories, random_state=42, remove=('headers', 'footers', 'quotes'))\n",
    "newsgroups_test = fetch_20newsgroups(subset='test', categories=categories, random_state=42, remove=('headers', 'footers', 'quotes'))\n",
    "\n",
    "# Look to see what the first three entries of the raw data looks like\n",
    "print(newsgroups_train.data[:3])\n",
    "print(newsgroups_train.target[:3])"
   ]
  },
  {
   "cell_type": "markdown",
   "metadata": {},
   "source": [
    "## Step 2: Clean and analyze data\n",
    "\n",
    "### Analyzing any potential dataset biases\n",
    "\n",
    "Now that we have the data we want to make sure that it is balanced. Unbalanced datasets can cause algorithms to be biased - favoring the classification of one class over another. We can count the number of each type of label, or view the labels as a histogram. If the dataset is unbalanced, then remedial measures can be utilized to balance the classes out. Alternatively, many algorithms (including PyTorch) let you give weights to the classes in order to help the algorithm be less biased.\n",
    "\n",
    "A nice feature of the 20 newsgroup dataset is that it is balanced, but it is important to always look at the breakdown of your data before trying to build a classifier for it.\n",
    "\n",
    "When looking at a dataset it is also important to know how the dataset was collected and labeled as this has some very real implications to your final algorithm. For instance, if the space articles were only collected on conversations surrounding studying star formation, the classifier would likely not be able to as accuratly classify articles on Martian exploration. It is very important to make sure that your use case matches the intended/expected use of the dataset."
   ]
  },
  {
   "cell_type": "code",
   "execution_count": 3,
   "metadata": {},
   "outputs": [
    {
     "data": {
      "text/plain": [
       "(array([594.,   0.,   0.,   0.,   0., 598.,   0.,   0.,   0., 593.]),\n",
       " array([0. , 0.2, 0.4, 0.6, 0.8, 1. , 1.2, 1.4, 1.6, 1.8, 2. ]),\n",
       " <a list of 10 Patch objects>)"
      ]
     },
     "execution_count": 3,
     "metadata": {},
     "output_type": "execute_result"
    },
    {
     "data": {
      "image/png": "[encoded data removed]",
      "text/plain": [
       "<Figure size 432x288 with 1 Axes>"
      ]
     },
     "metadata": {},
     "output_type": "display_data"
    }
   ],
   "source": [
    "plt.hist(newsgroups_train.target)"
   ]
  },
  {
   "cell_type": "code",
   "execution_count": 4,
   "metadata": {},
   "outputs": [
    {
     "data": {
      "text/plain": [
       "(array([396.,   0.,   0.,   0.,   0., 398.,   0.,   0.,   0., 394.]),\n",
       " array([0. , 0.2, 0.4, 0.6, 0.8, 1. , 1.2, 1.4, 1.6, 1.8, 2. ]),\n",
       " <a list of 10 Patch objects>)"
      ]
     },
     "execution_count": 4,
     "metadata": {},
     "output_type": "execute_result"
    },
    {
     "data": {
      "image/png": "[encoded data removed]",
      "text/plain": [
       "<Figure size 432x288 with 1 Axes>"
      ]
     },
     "metadata": {},
     "output_type": "display_data"
    }
   ],
   "source": [
    "plt.hist(newsgroups_test.target)"
   ]
  },
  {
   "cell_type": "markdown",
   "metadata": {},
   "source": [
    "### Cleaning the dataset\n",
    "\n",
    "Now that we know the dataset is ok we would like to clean the text. In NLP there are few typical cleaning techniques that are used for many tasks. However, these are definitely task dependent! For example, if you are performing name entity recognition (NER), your more than likely do not want to lowercase your text.\n",
    "\n",
    "* Lowercase\n",
    "* Remove stopwords (a, and, the, but...)\n",
    "* Removing non-letters\n",
    "* Cleaning or removing web addresses, hashtags, dates, etc\n",
    "* Lemmatization (in essence get the root of the word)\n"
   ]
  },
  {
   "cell_type": "code",
   "execution_count": 5,
   "metadata": {},
   "outputs": [],
   "source": [
    "lemmatizer = WordNetLemmatizer()\n",
    "\n",
    "\n",
    "def lemmatize(word, lemma=lemmatizer):\n",
    "#     This function will take a single word and return the lemma of it\n",
    "#     Examples:\n",
    "#         running -> run\n",
    "#         awkwardly -> awkward\n",
    "\n",
    "#     Transforming text in this way allows for better topic prediction\n",
    "#     as topics will probably contain the same root words and we don't \n",
    "#     care about the tense the topic is being discussed in.\n",
    "    \n",
    "    lemmatized = lemma.lemmatize(word, \"n\")\n",
    "    if lemmatized == word:\n",
    "        lemmatized = lemma.lemmatize(word, \"v\")\n",
    "    if lemmatized == word:\n",
    "        lemmatized = lemma.lemmatize(word, \"r\")\n",
    "    return lemmatized\n",
    "\n",
    "\n",
    "def clean_text(raw_text, remove_stop_words=True,  lemmatize_words=True):\n",
    "    # Function to clean text\n",
    "    # The input is a single string (a raw movie review), and \n",
    "    # the output is a single string (a preprocessed movie review)\n",
    "    # This is modified from https://www.kaggle.com/c/word2vec-nlp-tutorial/details/part-1-for-beginners-bag-of-words\n",
    "\n",
    "    # 1. Keep only letters or numbers        \n",
    "    letters_only = re.sub(\"[^a-zA-Z0-9]\", \" \", raw_text) \n",
    "    #\n",
    "    # 2. Convert to lower case, split into individual words\n",
    "    words = letters_only.lower().split()  \n",
    "    \n",
    "    # 3. If we want to not remove stop words we are done - otherwise forge ahead\n",
    "    if remove_stop_words == False:\n",
    "        return words\n",
    "    \n",
    "    # 4. In Python, searching a set is much faster than searching\n",
    "    #   a list, so convert the stop words to a set\n",
    "    stops = set(stopwords.words(\"english\"))                  \n",
    "    # \n",
    "    # 5. Remove stop words, lemnitizing as we go if desired\n",
    "    if not lemmatize_words:\n",
    "        meaningful_words = [w for w in words if not w in stops]   \n",
    "    else:\n",
    "        meaningful_words = [lemmatize(w) for w in words if not w in stops]\n",
    "    #\n",
    "    # 6. Join the words back into one string separated by space, \n",
    "    # and return the result \n",
    "    return( \" \".join( meaningful_words ))  \n"
   ]
  },
  {
   "cell_type": "code",
   "execution_count": 10,
   "metadata": {},
   "outputs": [
    {
     "name": "stdout",
     "output_type": "stream",
     "text": [
      "[nltk_data] Downloading package stopwords to /home/mera/nltk_data...\n",
      "[nltk_data]   Package stopwords is already up-to-date!\n",
      "[nltk_data] Downloading package wordnet to /home/mera/nltk_data...\n",
      "[nltk_data]   Unzipping corpora/wordnet.zip.\n"
     ]
    },
    {
     "data": {
      "text/plain": [
       "True"
      ]
     },
     "execution_count": 10,
     "metadata": {},
     "output_type": "execute_result"
    }
   ],
   "source": [
    "import nltk\n",
    "nltk.download('stopwords')\n",
    "nltk.download('wordnet')"
   ]
  },
  {
   "cell_type": "code",
   "execution_count": 11,
   "metadata": {},
   "outputs": [
    {
     "name": "stdout",
     "output_type": "stream",
     "text": [
      "Hey folks--\n",
      "\n",
      "I've got a pair of Dunlop sportmax radials of my ZX-10, and they've been\n",
      "very sticky (ie no slides yet), but all this talk about the Metzelers has\n",
      "me wondering if my next set should be a Lazer comp K and a radial Metzeler\n",
      "rear...for hard sport-touring, how do the choices stack up? \n",
      "\n",
      "Without stopwords \n",
      "\n",
      "hey folks got pair dunlop sportmax radials zx 10 sticky ie slides yet talk metzelers wondering next set lazer comp k radial metzeler rear hard sport touring choices stack\n",
      "\n",
      " Without stopwords and with lemmatization \n",
      " \n",
      "hey folk get pair dunlop sportmax radial zx 10 sticky ie slide yet talk metzelers wonder next set lazer comp k radial metzeler rear hard sport tour choice stack\n"
     ]
    }
   ],
   "source": [
    "# what does the full text clean look like:\n",
    "print(newsgroups_train.data[0], '\\n')\n",
    "print(\"Without stopwords \\n\")\n",
    "print(clean_text(newsgroups_train.data[0], remove_stop_words=True, lemmatize_words=False))\n",
    "print(\"\\n Without stopwords and with lemmatization \\n \")\n",
    "print(clean_text(newsgroups_train.data[0], remove_stop_words=True, lemmatize_words=True))"
   ]
  },
  {
   "cell_type": "markdown",
   "metadata": {},
   "source": [
    "## Step 3: Choose one or more algorithms\n",
    "\n",
    "Now that we have a clean dataset which we have determined is balanced, and fits our use case, we can choose one or more algorithms to experiment with. We are going to start with a very simple model as the later lessons will go into more of the deep learning techniques. So the very first model we will try is a bag of words model (BOW) with Term Frequency, Inverse Document Frequency (TF-IDF) into a logistic regression. \n",
    "\n",
    "Basically, BOW will count the number of each words occurance. TF-IDF will then weight the words that occur less frequenty in the overal corpus (aka all of our documents) so that the more infrequent words have a higher count. SKlearn has a built in function TfidfVectorizer() that we will use. One aspect to not here is that TfidfVectorizer() can remove stop words at this stage as well, but we already took care of that step in cleaning. As a side note, it definitely is not as important to remove stop words when using TF-IDF as the most frequent words are discounted naturally due to the number of times they appear in the corpus."
   ]
  },
  {
   "cell_type": "code",
   "execution_count": 12,
   "metadata": {},
   "outputs": [
    {
     "name": "stdout",
     "output_type": "stream",
     "text": [
      "(1785, 5000)\n",
      "[[0.         0.         0.         ... 0.         0.         0.21486039]\n",
      " [0.         0.         0.         ... 0.         0.         0.        ]\n",
      " [0.         0.         0.         ... 0.         0.         0.        ]\n",
      " [0.         0.         0.         ... 0.         0.         0.        ]\n",
      " [0.         0.         0.         ... 0.         0.         0.        ]]\n"
     ]
    }
   ],
   "source": [
    "tf_idf_vectorizer = TfidfVectorizer(analyzer = \"word\", stop_words = None, max_features = 5000)\n",
    "# Max features here is how many tokens to include in the corpus (aka number of \"words\")\n",
    "\n",
    "clean_train = [clean_text(article) for article in newsgroups_train.data]\n",
    "train_data_features = tf_idf_vectorizer.fit_transform(clean_train)\n",
    "train_data_features = train_data_features.toarray()\n",
    "\n",
    "# At this point I like to look at the data again just to see what it looks like now\n",
    "print(train_data_features.shape)\n",
    "print(train_data_features[:5])"
   ]
  },
  {
   "cell_type": "code",
   "execution_count": 13,
   "metadata": {},
   "outputs": [],
   "source": [
    "# Lets use a very simple model as well - that of logistic regression\n",
    "logreg = linear_model.LogisticRegression()\n",
    "logreg.fit(train_data_features, newsgroups_train.target)\n",
    "\n",
    "# model is trained so we test - make sure when you fit the vectorizer you only transform\n",
    "# not fit_transform as we don't want to retrain the vectorizer\n",
    "\n",
    "clean_test = [clean_text(article) for article in newsgroups_test.data]\n",
    "test_data_features = tf_idf_vectorizer.transform(clean_test)\n",
    "test_data_features = test_data_features.toarray()\n",
    "\n",
    "predictions = logreg.predict(test_data_features)"
   ]
  },
  {
   "cell_type": "markdown",
   "metadata": {},
   "source": [
    "## Step 4: Analyze algorithm and choose one for production\n",
    "\n",
    "There are a number of ways to analyze the algorithm once it is trained. One method that I often use is a classification report. In this report you get the precision, recall, and f1-score for each of the classes. According to Wikipedia https://upload.wikimedia.org/wikipedia/commons/2/26/Precisionrecall.svg the precision answers the question \"How many selected items are relevant\" while recall answers \"How many relevant items are selected\". \n",
    "\n",
    "![alt text](Precisionrecall.svg)\n",
    "\n",
    "The F1 Score is the harmonic mean of precision and recall."
   ]
  },
  {
   "cell_type": "markdown",
   "metadata": {},
   "source": [
    "Unsurprisingly, the classifier was able to have the best acuracy on the space articles compared to autos and mortocycles as those two classes are much closer together.\n",
    "\n",
    "Splitting the data into a training and a test set helps to ensure that we aren't overfitting, but it is informative to see how different the classifier is able to predict the training set, as opposed to the test set that it didn't see. And indeed if we look at the table below the performance is higher with the training set. It isn't a lot of overfitting, but could be improved. The image from http://cs231n.github.io/neural-networks-3/ is a good example of how to judge overfitting, particularly with deep learning models.\n",
    "\n",
    "![alt text](accuracies.jpeg)"
   ]
  },
  {
   "cell_type": "code",
   "execution_count": 14,
   "metadata": {},
   "outputs": [
    {
     "name": "stdout",
     "output_type": "stream",
     "text": [
      "                 precision    recall  f1-score   support\n",
      "\n",
      "      rec.autos       0.85      0.81      0.83       396\n",
      "rec.motorcycles       0.79      0.83      0.81       398\n",
      "      sci.space       0.90      0.89      0.89       394\n",
      "\n",
      "    avg / total       0.85      0.85      0.85      1188\n",
      "\n"
     ]
    }
   ],
   "source": [
    "print(classification_report(newsgroups_test.target, predictions, target_names=newsgroups_train.target_names))"
   ]
  },
  {
   "cell_type": "code",
   "execution_count": 15,
   "metadata": {},
   "outputs": [
    {
     "name": "stdout",
     "output_type": "stream",
     "text": [
      "                 precision    recall  f1-score   support\n",
      "\n",
      "      rec.autos       0.97      0.92      0.94       594\n",
      "rec.motorcycles       0.90      0.97      0.94       598\n",
      "      sci.space       0.99      0.97      0.98       593\n",
      "\n",
      "    avg / total       0.95      0.95      0.95      1785\n",
      "\n"
     ]
    }
   ],
   "source": [
    "train_predictions = logreg.predict(train_data_features)\n",
    "print(classification_report(newsgroups_train.target, train_predictions, target_names=newsgroups_train.target_names))"
   ]
  },
  {
   "cell_type": "markdown",
   "metadata": {},
   "source": [
    "### Explaining the classifier - which words is it relying on most heavily?\n",
    "\n",
    "Another aspect that may be important with assessing and choosing an algorithm, is to gain an intuition around why a certain classification was chosen. For deep learning models, attention layers are being utilized to see the top words a classifier relied on to make its decision. A similar method is used in machine learning. Explainability for NLP is an active topic of research, but they are getting more robust."
   ]
  },
  {
   "cell_type": "code",
   "execution_count": 16,
   "metadata": {},
   "outputs": [
    {
     "name": "stdout",
     "output_type": "stream",
     "text": [
      "rec.autos: wagon gt oil price toyota drive ford dealer auto car\n",
      "rec.motorcycles: bmw drink rider dog rid helmet ride dod motorcycle bike\n",
      "sci.space: program satellite fund rocket earth moon nasa orbit launch space\n"
     ]
    }
   ],
   "source": [
    "def show_top10(classifier, vectorizer, categories):\n",
    "    feature_names = np.asarray(vectorizer.get_feature_names())\n",
    "    for i, category in enumerate(categories):\n",
    "        top10 = np.argsort(classifier.coef_[i])[-10:]\n",
    "        print(\"%s: %s\" % (category, \" \".join(feature_names[top10])))\n",
    "\n",
    "show_top10(logreg, tf_idf_vectorizer, newsgroups_train.target_names)"
   ]
  },
  {
   "cell_type": "markdown",
   "metadata": {},
   "source": [
    "## Try it with your own text\n",
    "\n",
    "One of the useful (and fun) things to do now if to see how the classifier will parse new text that it hasn't seen. So write a sentence and see what happens. You can also go back and do all 20 categories."
   ]
  },
  {
   "cell_type": "code",
   "execution_count": 18,
   "metadata": {},
   "outputs": [],
   "source": [
    "text_input = \"I always loved watching the stars, and whenever I have the change I watch for satellites overhead :)\""
   ]
  },
  {
   "cell_type": "code",
   "execution_count": 28,
   "metadata": {},
   "outputs": [
    {
     "name": "stdout",
     "output_type": "stream",
     "text": [
      "[2]\n",
      "This text most fits in sci.space with a probability of 49.083026\n"
     ]
    }
   ],
   "source": [
    "clean_input = [clean_text(text_input)]\n",
    "input_data_features = tf_idf_vectorizer.transform(clean_input)\n",
    "input_data_features = input_data_features.toarray()\n",
    "\n",
    "input_prediction = logreg.predict(input_data_features)\n",
    "prediction_percentage = max(logreg.predict_proba(input_data_features)[0])*100\n",
    "print(\"This text most fits in %s with a probability of %f\" \n",
    "      %(newsgroups_train.target_names[input_prediction[0]], prediction_percentage))"
   ]
  },
  {
   "cell_type": "markdown",
   "metadata": {},
   "source": [
    "## Exercise Complete!\n",
    "\n",
    "This is the bare bones of an end-to-end analysis we can save the models. From here we can experiment with using a CountVectorizer() instead of the TfidfVectorizer(), using a different algorithm like an boosted tree, an LSTM, or a CNN. We can also play around with how we cleaned the data. Did we really want to remove stop words, or how important was lemmitization? These are all things we could experiment with and see how the results change.\n",
    "\n",
    "This notebook approached many of the aspects necessary to ensure that the algorithm being created is ethical. The folks over at DrivenData have create the checklist below that can act as a guide as you go through your project. For more information on how to install and utilize this checklist goto: http://deon.drivendata.org/"
   ]
  },
  {
   "cell_type": "markdown",
   "metadata": {},
   "source": [
    "-----\n"
   ]
  },
  {
   "cell_type": "markdown",
   "metadata": {},
   "source": [
    "# Data Science Ethics Checklist\n",
    "\n",
    "## A. Data Collection\n",
    " - [ ] **A.1 Informed consent**: If there are human subjects, have those subjects have given informed consent, where users clearly understand what they are consenting to and there was a mechanism in place for gathering consent?\n",
    " - [ ] **A.2 Collection bias**: Have we considered sources of bias that could be introduced during data collection and survey design and taken steps to mitigate those?\n",
    " - [ ] **A.3 Limit PII exposure**: Have we considered ways to to minimize exposure of personally identifiable information (PII) for example through anonymization or not collecting information that isn't relevant for analysis?\n",
    "\n",
    "## B. Data Storage\n",
    " - [ ] **B.1 Data security**: Do we have a plan to protect and secure data (e.g., encryption at rest and in transit, access controls on internal users and third parties, access logs, and up-to-date software)?\n",
    " - [ ] **B.2 Right to be forgotten**: Do we have a mechanism through which an individual can request their personal information be removed?\n",
    " - [ ] **B.3 Data retention plan**: Is there a schedule or plan to delete the data after it is no longer needed?\n",
    "\n",
    "## C. Analysis\n",
    " - [ ] **C.1 Missing perspectives**: Have we sought to address blindspots in the analysis through engagement with relevant stakeholders (e.g., checking assumptions and discussing implications with affected communities and subject matter experts)?\n",
    " - [ ] **C.2 Dataset bias**: Have we examined the data for possible sources of bias and taken steps to mitigate or address these biases (e.g., stereotype perpetuation, confirmation bias, imbalanced classes, or omitted confounding variables)?\n",
    " - [ ] **C.3 Honest representation**: Are our visualizations, summary statistics, and reports designed to honestly represent the underlying data?\n",
    " - [ ] **C.4 Privacy in analysis**: Have we ensured that data with PII are not used or displayed unless necessary for the analysis?\n",
    " - [ ] **C.5 Auditability**: Is the process of generating the analysis well documented and reproducible if we discover issues in the future?\n",
    "\n",
    "## D. Modeling\n",
    " - [ ] **D.1 Proxy discrimination**: Have we ensured that the model does not rely on variables or proxies for variables that are unfairly discriminatory?\n",
    " - [ ] **D.2 Fairness across groups**: Have we tested model results for fairness with respect to different affected groups (e.g., tested for disparate error rates)?\n",
    " - [ ] **D.3 Metric selection**: Have we considered the effects of optimizing for our defined metrics and considered additional metrics?\n",
    " - [ ] **D.4 Explainability**: Can we explain in understandable terms a decision the model made in cases where a justification is needed?\n",
    " - [ ] **D.5 Communicate bias**: Have we communicated the shortcomings, limitations, and biases of the model to relevant stakeholders in ways that can be generally understood?\n",
    "\n",
    "## E. Deployment\n",
    " - [ ] **E.1 Redress**: Have we discussed with our organization a plan for response if users are harmed by the results (e.g., how does the data science team evaluate these cases and update analysis and models to prevent future harm)?\n",
    " - [ ] **E.2 Roll back**: Is there a way to turn off or roll back the model in production if necessary?\n",
    " - [ ] **E.3 Concept drift**: Do we test and monitor for concept drift to ensure the model remains fair over time?\n",
    " - [ ] **E.4 Unintended use**: Have we taken steps to identify and prevent unintended uses and abuse of the model and do we have a plan to monitor these once the model is deployed?\n",
    "\n",
    "*Data Science Ethics Checklist generated with [deon](http://deon.drivendata.org).*\n"
   ]
  },
  {
   "cell_type": "code",
   "execution_count": null,
   "metadata": {
    "collapsed": true
   },
   "outputs": [],
   "source": []
  }
 ],
 "metadata": {
  "kernelspec": {
   "display_name": "Python 3",
   "language": "python",
   "name": "python3"
  },
  "language_info": {
   "codemirror_mode": {
    "name": "ipython",
    "version": 3
   },
   "file_extension": ".py",
   "mimetype": "text/x-python",
   "name": "python",
   "nbconvert_exporter": "python",
   "pygments_lexer": "ipython3",
   "version": "3.5.5"
  }
 },
 "nbformat": 4,
 "nbformat_minor": 2
}
