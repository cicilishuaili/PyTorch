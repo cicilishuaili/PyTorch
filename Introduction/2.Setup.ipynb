{
 "cells": [
  {
   "cell_type": "markdown",
   "metadata": {
    "slideshow": {
     "slide_type": "slide"
    }
   },
   "source": [
    "<img src=\"https://raw.githubusercontent.com/PythonWorkshop/intro-to-nlp-with-pytorch/master/images/logo.png\" align=\"left\" width=\"25%\">\n",
    "\n",
    "# Setup for Workshop\n",
    "\n",
    "For this workshop, the Azure Data Science Virtual Machine will be used.  This is a VM one can fire up on Azure to perform data science tasks and is pre-installed with dozens of frameworks and packages for use.  It's a nice way to get started quickly without much overhead/setup which is one of the reasons we chose this for the workshop.  [Find out more here](https://docs.microsoft.com/en-us/azure/machine-learning/data-science-virtual-machine/overview).\n",
    "\n",
    "You will get credentials for a machine and log in at the URL provided.  This will be the jupyter notebook environment/playground provided to you for the day.  At the **end of the day you should zip up your notebooks and download** them as these VMs will disappear shortly thereafter into the sunset.  Be sure you are using `https`.  You may get a \"Your Connection is Not Private\" or other form of safety certificate error.  This is a known issue and we are working on it.  Please click through this by hitting the link on the page to continue."
   ]
  },
  {
   "cell_type": "markdown",
   "metadata": {
    "slideshow": {
     "slide_type": "slide"
    }
   },
   "source": [
    "**Let's take 10 minutes to ensure setup**"
   ]
  },
  {
   "cell_type": "markdown",
   "metadata": {
    "slideshow": {
     "slide_type": "slide"
    }
   },
   "source": [
    "## Your First Task\n",
    "\n",
    "1.  Log in to the DSVM with your provided credentials.\n",
    "2.  Open up a Terminal window (New drop down on right -> Terminal)\n",
    "3.  Git clone the workshop repo:  `git clone https://github.com/PythonWorkshop/intro-to-nlp-with-pytorch.git`\n",
    "4.  Open this notebook from the Introduction folder and if asked, choose the \"Python 3\" kernel.\n",
    "5.  Run the following code cells."
   ]
  },
  {
   "cell_type": "code",
   "execution_count": 1,
   "metadata": {
    "slideshow": {
     "slide_type": "slide"
    }
   },
   "outputs": [
    {
     "data": {
      "text/plain": [
       "{'/anaconda/envs/py35/bin/python'}"
      ]
     },
     "execution_count": 1,
     "metadata": {},
     "output_type": "execute_result"
    }
   ],
   "source": [
    "# Which Python\n",
    "import sys\n",
    "{sys.executable}"
   ]
  },
  {
   "cell_type": "code",
   "execution_count": 2,
   "metadata": {
    "slideshow": {
     "slide_type": "slide"
    }
   },
   "outputs": [
    {
     "data": {
      "text/plain": [
       "'0.4.0'"
      ]
     },
     "execution_count": 2,
     "metadata": {},
     "output_type": "execute_result"
    }
   ],
   "source": [
    "# Which PyTorch\n",
    "import torch\n",
    "torch.__version__"
   ]
  }
 ],
 "metadata": {
  "kernelspec": {
   "display_name": "Python 3",
   "language": "python",
   "name": "python3"
  },
  "language_info": {
   "codemirror_mode": {
    "name": "ipython",
    "version": 3
   },
   "file_extension": ".py",
   "mimetype": "text/x-python",
   "name": "python",
   "nbconvert_exporter": "python",
   "pygments_lexer": "ipython3",
   "version": "3.5.5"
  }
 },
 "nbformat": 4,
 "nbformat_minor": 2
}
